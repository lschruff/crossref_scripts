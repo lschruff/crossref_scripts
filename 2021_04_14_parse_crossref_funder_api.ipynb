{
 "cells": [
  {
   "cell_type": "code",
   "execution_count": 121,
   "metadata": {},
   "outputs": [],
   "source": [
    "import json\n",
    "import requests\n",
    "import urllib\n",
    "from urllib.request import urlopen"
   ]
  },
  {
   "cell_type": "code",
   "execution_count": 122,
   "metadata": {},
   "outputs": [],
   "source": [
    "base_url = 'https://api.crossref.org/funders?query='\n",
    "search_term = 'bmbf'"
   ]
  },
  {
   "cell_type": "code",
   "execution_count": 123,
   "metadata": {},
   "outputs": [],
   "source": [
    "URL_orig = base_url + search_term\n",
    "URL = URL_orig.replace(\" \", \"+\")"
   ]
  },
  {
   "cell_type": "code",
   "execution_count": 124,
   "metadata": {},
   "outputs": [],
   "source": [
    "r = requests.get(URL).json()['message']"
   ]
  },
  {
   "cell_type": "code",
   "execution_count": 125,
   "metadata": {},
   "outputs": [
    {
     "name": "stdout",
     "output_type": "stream",
     "text": [
      "Bundesministerium für Bildung und Forschung\n",
      "http://dx.doi.org/10.13039/501100002347\n",
      "\n",
      "Bundesministerium für Bildung und Frauen\n",
      "http://dx.doi.org/10.13039/501100006603\n",
      "\n"
     ]
    }
   ],
   "source": [
    "for item in r['items']:\n",
    "    print(item['name'])\n",
    "    print(item['uri'])\n",
    "    print()"
   ]
  },
  {
   "cell_type": "code",
   "execution_count": null,
   "metadata": {},
   "outputs": [],
   "source": []
  }
 ],
 "metadata": {
  "kernelspec": {
   "display_name": "Python 3",
   "language": "python",
   "name": "python3"
  },
  "language_info": {
   "codemirror_mode": {
    "name": "ipython",
    "version": 3
   },
   "file_extension": ".py",
   "mimetype": "text/x-python",
   "name": "python",
   "nbconvert_exporter": "python",
   "pygments_lexer": "ipython3",
   "version": "3.8.5"
  }
 },
 "nbformat": 4,
 "nbformat_minor": 4
}
