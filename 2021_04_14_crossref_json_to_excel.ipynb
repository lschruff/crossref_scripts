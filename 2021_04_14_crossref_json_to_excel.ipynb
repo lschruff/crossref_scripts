{
 "cells": [
  {
   "cell_type": "code",
   "execution_count": 1,
   "metadata": {},
   "outputs": [],
   "source": [
    "import json\n",
    "import pandas as pd\n",
    "import requests\n",
    "import urllib\n",
    "from urllib.request import urlopen"
   ]
  },
  {
   "cell_type": "code",
   "execution_count": 2,
   "metadata": {},
   "outputs": [],
   "source": [
    "def process_jsonToPandas(URL):\n",
    "    \n",
    "    r = requests.get(URL).json()['message']\n",
    "    df = pd.json_normalize(r, sep='_')\n",
    "    \n",
    "    return df"
   ]
  },
  {
   "cell_type": "code",
   "execution_count": 3,
   "metadata": {},
   "outputs": [],
   "source": [
    "resolver = 'https://api.crossref.org/works/'\n",
    "DOIs = ['10.1016/j.jaad.2021.01.047', '10.1016/j.jaad.2021.03.022', '10.1016/j.jaad.2021.03.092']"
   ]
  },
  {
   "cell_type": "code",
   "execution_count": 4,
   "metadata": {},
   "outputs": [],
   "source": [
    "URLs = [f'{resolver}{DOI}' for DOI in DOIs]"
   ]
  },
  {
   "cell_type": "code",
   "execution_count": 5,
   "metadata": {},
   "outputs": [],
   "source": [
    "list_of_dataframes = [ ]\n",
    "\n",
    "for URL in URLs:\n",
    "\n",
    "    try:\n",
    "        list_of_dataframes.append(process_jsonToPandas(URL))\n",
    "        df = pd.concat(list_of_dataframes)\n",
    "        df\n",
    "    except:\n",
    "        print(URL)\n",
    "\n",
    "#df"
   ]
  },
  {
   "cell_type": "code",
   "execution_count": 6,
   "metadata": {},
   "outputs": [
    {
     "data": {
      "text/html": [
       "<div>\n",
       "<style scoped>\n",
       "    .dataframe tbody tr th:only-of-type {\n",
       "        vertical-align: middle;\n",
       "    }\n",
       "\n",
       "    .dataframe tbody tr th {\n",
       "        vertical-align: top;\n",
       "    }\n",
       "\n",
       "    .dataframe thead th {\n",
       "        text-align: right;\n",
       "    }\n",
       "</style>\n",
       "<table border=\"1\" class=\"dataframe\">\n",
       "  <thead>\n",
       "    <tr style=\"text-align: right;\">\n",
       "      <th></th>\n",
       "      <th>publisher</th>\n",
       "      <th>DOI</th>\n",
       "      <th>title</th>\n",
       "      <th>author</th>\n",
       "      <th>container-title</th>\n",
       "      <th>issn-type</th>\n",
       "      <th>published-print_date-parts</th>\n",
       "      <th>license</th>\n",
       "    </tr>\n",
       "  </thead>\n",
       "  <tbody>\n",
       "    <tr>\n",
       "      <th>0</th>\n",
       "      <td>Elsevier BV</td>\n",
       "      <td>10.1016/j.jaad.2021.01.047</td>\n",
       "      <td>[An evidence-based guide to SARS-CoV-2 vaccina...</td>\n",
       "      <td>[{'given': 'Louise M.', 'family': 'Gresham', '...</td>\n",
       "      <td>[Journal of the American Academy of Dermatology]</td>\n",
       "      <td>[{'value': '0190-9622', 'type': 'print'}]</td>\n",
       "      <td>[[2021, 1]]</td>\n",
       "      <td>[{'URL': 'https://www.elsevier.com/tdm/userlic...</td>\n",
       "    </tr>\n",
       "    <tr>\n",
       "      <th>0</th>\n",
       "      <td>Elsevier BV</td>\n",
       "      <td>10.1016/j.jaad.2021.03.022</td>\n",
       "      <td>[May 2021: Heterogeneity in reported skin mani...</td>\n",
       "      <td>[{'given': 'Jonathan', 'family': 'Kantor', 'se...</td>\n",
       "      <td>[Journal of the American Academy of Dermatology]</td>\n",
       "      <td>[{'value': '0190-9622', 'type': 'print'}]</td>\n",
       "      <td>[[2021, 5]]</td>\n",
       "      <td>[{'URL': 'https://www.elsevier.com/tdm/userlic...</td>\n",
       "    </tr>\n",
       "    <tr>\n",
       "      <th>0</th>\n",
       "      <td>Elsevier BV</td>\n",
       "      <td>10.1016/j.jaad.2021.03.092</td>\n",
       "      <td>[Cutaneous Reactions Reported after Moderna an...</td>\n",
       "      <td>[{'given': 'Devon E.', 'family': 'McMahon', 's...</td>\n",
       "      <td>[Journal of the American Academy of Dermatology]</td>\n",
       "      <td>[{'value': '0190-9622', 'type': 'print'}]</td>\n",
       "      <td>[[2021, 4]]</td>\n",
       "      <td>[{'URL': 'https://www.elsevier.com/tdm/userlic...</td>\n",
       "    </tr>\n",
       "  </tbody>\n",
       "</table>\n",
       "</div>"
      ],
      "text/plain": [
       "     publisher                         DOI  \\\n",
       "0  Elsevier BV  10.1016/j.jaad.2021.01.047   \n",
       "0  Elsevier BV  10.1016/j.jaad.2021.03.022   \n",
       "0  Elsevier BV  10.1016/j.jaad.2021.03.092   \n",
       "\n",
       "                                               title  \\\n",
       "0  [An evidence-based guide to SARS-CoV-2 vaccina...   \n",
       "0  [May 2021: Heterogeneity in reported skin mani...   \n",
       "0  [Cutaneous Reactions Reported after Moderna an...   \n",
       "\n",
       "                                              author  \\\n",
       "0  [{'given': 'Louise M.', 'family': 'Gresham', '...   \n",
       "0  [{'given': 'Jonathan', 'family': 'Kantor', 'se...   \n",
       "0  [{'given': 'Devon E.', 'family': 'McMahon', 's...   \n",
       "\n",
       "                                    container-title  \\\n",
       "0  [Journal of the American Academy of Dermatology]   \n",
       "0  [Journal of the American Academy of Dermatology]   \n",
       "0  [Journal of the American Academy of Dermatology]   \n",
       "\n",
       "                                   issn-type published-print_date-parts  \\\n",
       "0  [{'value': '0190-9622', 'type': 'print'}]                [[2021, 1]]   \n",
       "0  [{'value': '0190-9622', 'type': 'print'}]                [[2021, 5]]   \n",
       "0  [{'value': '0190-9622', 'type': 'print'}]                [[2021, 4]]   \n",
       "\n",
       "                                             license  \n",
       "0  [{'URL': 'https://www.elsevier.com/tdm/userlic...  \n",
       "0  [{'URL': 'https://www.elsevier.com/tdm/userlic...  \n",
       "0  [{'URL': 'https://www.elsevier.com/tdm/userlic...  "
      ]
     },
     "execution_count": 6,
     "metadata": {},
     "output_type": "execute_result"
    }
   ],
   "source": [
    "df2 = df[['publisher', 'DOI', 'title', 'author', 'container-title', 'issn-type', 'published-print_date-parts', 'license']]\n",
    "df2"
   ]
  },
  {
   "cell_type": "code",
   "execution_count": 7,
   "metadata": {},
   "outputs": [],
   "source": [
    "#df2.to_excel('wos_covid19_vaccine_4000.xlsx', index=False, encoding='utf-8-sig')"
   ]
  }
 ],
 "metadata": {
  "kernelspec": {
   "display_name": "Python 3",
   "language": "python",
   "name": "python3"
  },
  "language_info": {
   "codemirror_mode": {
    "name": "ipython",
    "version": 3
   },
   "file_extension": ".py",
   "mimetype": "text/x-python",
   "name": "python",
   "nbconvert_exporter": "python",
   "pygments_lexer": "ipython3",
   "version": "3.8.5"
  }
 },
 "nbformat": 4,
 "nbformat_minor": 4
}
